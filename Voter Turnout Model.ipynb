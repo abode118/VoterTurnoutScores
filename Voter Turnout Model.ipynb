{
 "cells": [
  {
   "cell_type": "markdown",
   "id": "4b11dec8",
   "metadata": {},
   "source": [
    "# Generating Voter Turnout Scores\n",
    "Anne Bode - Bluebonnet Data Fellow"
   ]
  },
  {
   "cell_type": "markdown",
   "id": "786d0ca2",
   "metadata": {},
   "source": [
    "### 1. Mature Voters\n",
    "##### Registered for 6+ years prior to election\n",
    "\n",
    "* **Super Muni Voter** - Voted in prior three off cycle/Muni Elections  \n",
    "* **Super General/Midterm Voters** - Voted in last two presidential elections + midterm between  \n",
    "* **Likely Muni Voter** - Voted in at least 1 of prior off cycle/Muni Elections  \n",
    "* **Likely General/Midterm Voter** - Voted in at least two of past presidental elections + midterm between  \n",
    "* **Less Likely Voter** - All others \n",
    "\n",
    "\n",
    "### 2. Newer Voters\n",
    "##### Registered for <6 years prior to election\n",
    "* **Super Muni Young Voter** - Voted in one of past two off cycle/Muni Elections  \n",
    "* **Super General/Midterm Young Voter** - Voted in last midterm + general  \n",
    "* **Less Likely Young Voter** - All others  \n",
    "\n",
    "### 3. VERY New Voters\n",
    "* **Registered after 2018 Election + voted in 2020**\n",
    "* **Registered after 2020**"
   ]
  },
  {
   "cell_type": "markdown",
   "id": "dd07c55e",
   "metadata": {},
   "source": [
    "## 1. Prepping the Voter Database\n",
    "\n",
    "Using our Voter List from VoteBuilder, create a voter database"
   ]
  },
  {
   "cell_type": "code",
   "execution_count": 1,
   "id": "c889ab07",
   "metadata": {},
   "outputs": [],
   "source": [
    "import pandas as pd\n",
    "import numpy as np"
   ]
  },
  {
   "cell_type": "code",
   "execution_count": 2,
   "id": "b0a12097",
   "metadata": {},
   "outputs": [
    {
     "name": "stderr",
     "output_type": "stream",
     "text": [
      "<ipython-input-2-52786c09e7a7>:2: DtypeWarning: Columns (19,35,40,53,61,63,86,87,102,113,114,120,121,125,127,128,129,130,131,132,133,134,135,140,141,144,146) have mixed types. Specify dtype option on import or set low_memory=False.\n",
      "  df_voters = pd.read_csv('Voter File.csv')\n"
     ]
    },
    {
     "name": "stdout",
     "output_type": "stream",
     "text": [
      "<class 'pandas.core.frame.DataFrame'>\n",
      "RangeIndex: 23967 entries, 0 to 23966\n",
      "Columns: 147 entries, Voter File VANID to SpecialPrimary04 \n",
      "dtypes: float64(9), int64(6), object(132)\n",
      "memory usage: 26.9+ MB\n"
     ]
    }
   ],
   "source": [
    "# import voter universe\n",
    "df_voters = pd.read_csv('Voter File.csv')\n",
    "df_voters.info()"
   ]
  },
  {
   "cell_type": "code",
   "execution_count": 3,
   "id": "e7e28cb1",
   "metadata": {},
   "outputs": [
    {
     "name": "stdout",
     "output_type": "stream",
     "text": [
      "<class 'pandas.core.frame.DataFrame'>\n",
      "RangeIndex: 23967 entries, 0 to 23966\n",
      "Columns: 149 entries, Voter File VANID to Ethnicity (Grouped)\n",
      "dtypes: datetime64[ns](1), float64(9), int64(6), object(133)\n",
      "memory usage: 27.2+ MB\n"
     ]
    }
   ],
   "source": [
    "# make edits to certain columns\n",
    "df_voters['DateReg'] = pd.to_datetime(df_voters['DateReg'])\n",
    "df_voters['Ward'] = df_voters['PrecinctName'].str.split(' ').str[1]\n",
    "\n",
    "df_voters['Ethnicity (Grouped)'] = np.where(df_voters['CodedRaceName'].str.contains('Black'),'Black',\n",
    "                                        np.where(df_voters['CodedRaceName'].str.contains('Hispanic'),'Hispanic',\n",
    "                                                np.where(df_voters['CodedRaceName'].str.contains('Asian'),'Asian',\n",
    "                                                        np.where(df_voters['CodedRaceName'].str.contains('White'),'White',\n",
    "                                                        'Other'))))\n",
    "\n",
    "df_voters.info()"
   ]
  },
  {
   "cell_type": "markdown",
   "id": "5687802d",
   "metadata": {},
   "source": [
    "## 2. Prep Data for Logistic Regression Model\n",
    "\n",
    "Create dummy variables out of categorical variables. Trying to predict likelihood they will vote in the 2021 muni election. We will regress 2009, 2013, 2017 vote outcome on applicable voters & features.  \n",
    "\n",
    "Note: this model will only be helpful for voting behavior of people who have been registered for 6 years before election; will need to run a second model to predict newer voters' behaviors."
   ]
  },
  {
   "cell_type": "code",
   "execution_count": 4,
   "id": "92de7cef",
   "metadata": {},
   "outputs": [
    {
     "name": "stdout",
     "output_type": "stream",
     "text": [
      "<class 'pandas.core.frame.DataFrame'>\n",
      "RangeIndex: 23967 entries, 0 to 23966\n",
      "Data columns (total 33 columns):\n",
      " #   Column            Non-Null Count  Dtype         \n",
      "---  ------            --------------  -----         \n",
      " 0   Voter File VANID  23967 non-null  int64         \n",
      " 1   Sex               23967 non-null  object        \n",
      " 2   Age               23967 non-null  int64         \n",
      " 3   DateReg           23967 non-null  datetime64[ns]\n",
      " 4   Party             23967 non-null  object        \n",
      " 5   CodedRaceName     23967 non-null  object        \n",
      " 6   General20         23967 non-null  float64       \n",
      " 7   General18         23967 non-null  float64       \n",
      " 8   General16         23967 non-null  float64       \n",
      " 9   General14         23967 non-null  float64       \n",
      " 10  General12         23967 non-null  float64       \n",
      " 11  General10         23967 non-null  float64       \n",
      " 12  General08         23967 non-null  float64       \n",
      " 13  General06         23967 non-null  float64       \n",
      " 14  General04         23967 non-null  float64       \n",
      " 15  Municipal19       23967 non-null  float64       \n",
      " 16  Municipal17       23967 non-null  float64       \n",
      " 17  Municipal15       23967 non-null  float64       \n",
      " 18  Municipal13       23967 non-null  float64       \n",
      " 19  Municipal11       23967 non-null  float64       \n",
      " 20  Municipal09       23967 non-null  float64       \n",
      " 21  Municipal07       23967 non-null  float64       \n",
      " 22  Municipal05       23967 non-null  float64       \n",
      " 23  Municipal03       23967 non-null  float64       \n",
      " 24  Woman?            23967 non-null  int32         \n",
      " 25  AgeMuni17         23967 non-null  int64         \n",
      " 26  AgeMuni13         23967 non-null  int64         \n",
      " 27  AgeMuni09         23967 non-null  int64         \n",
      " 28  Democrat/Green?   23967 non-null  int32         \n",
      " 29  Black             23967 non-null  int32         \n",
      " 30  Hispanic          23967 non-null  int32         \n",
      " 31  Asian             23967 non-null  int32         \n",
      " 32  White             23967 non-null  int32         \n",
      "dtypes: datetime64[ns](1), float64(18), int32(6), int64(5), object(3)\n",
      "memory usage: 5.5+ MB\n"
     ]
    }
   ],
   "source": [
    "# include only the variables we care about for our logistic regression\n",
    "df_reg = df_voters[['Voter File VANID',\n",
    "                    'Sex',\n",
    "                    'Age',\n",
    "                    'DateReg',\n",
    "                    'Party',\n",
    "                    'CodedRaceName',\n",
    "                    'General20',\n",
    "                    'General18',\n",
    "                    'General16',\n",
    "                    'General14',\n",
    "                    'General12',\n",
    "                    'General10',\n",
    "                    'General08',\n",
    "                    'General06',\n",
    "                    'General04',\n",
    "                    'Municipal19',\n",
    "                    'Municipal17',\n",
    "                    'Municipal15',\n",
    "                    'Municipal13',\n",
    "                    'Municipal11',\n",
    "                    'Municipal09',\n",
    "                    'Municipal07',\n",
    "                    'Municipal05',\n",
    "                    'Municipal03'\n",
    "                    ]].copy(deep=True)\n",
    "\n",
    "# create dummy variables\n",
    "df_reg['Woman?'] = np.where(df_reg['Sex']=='F',1,0)\n",
    "\n",
    "df_reg['AgeMuni17'] = df_reg['Age']-4\n",
    "df_reg['AgeMuni13'] = df_reg['Age']-8\n",
    "df_reg['AgeMuni09'] = df_reg['Age']-12\n",
    "\n",
    "df_reg['Democrat/Green?'] = np.where(df_reg['Party']=='D',1,np.where(df_reg['Party']=='G',1,0))\n",
    "    \n",
    "df_reg['Black'] = np.where(df_reg['CodedRaceName'].str.contains('Black'),1,0)\n",
    "df_reg['Hispanic'] = np.where(df_reg['CodedRaceName'].str.contains('Hispanic'),1,0)\n",
    "df_reg['Asian'] = np.where(df_reg['CodedRaceName'].str.contains('Asian'),1,0)\n",
    "df_reg['White'] = np.where(df_reg['CodedRaceName'].str.contains('White'),1,0)\n",
    "\n",
    "df_reg = df_reg.replace(to_replace=['Y','NaN'],value=[1,0])\n",
    "df_reg = df_reg.fillna(0)\n",
    "\n",
    "df_reg.info()"
   ]
  },
  {
   "cell_type": "code",
   "execution_count": 5,
   "id": "703cfab6",
   "metadata": {},
   "outputs": [
    {
     "name": "stdout",
     "output_type": "stream",
     "text": [
      "<class 'pandas.core.frame.DataFrame'>\n",
      "RangeIndex: 13255 entries, 0 to 13254\n",
      "Data columns (total 31 columns):\n",
      " #   Column             Non-Null Count  Dtype         \n",
      "---  ------             --------------  -----         \n",
      " 0   Voter File VANID   13255 non-null  int64         \n",
      " 1   Woman?             13255 non-null  int32         \n",
      " 2   AgeMuni            13255 non-null  int64         \n",
      " 3   DateReg            13255 non-null  datetime64[ns]\n",
      " 4   Democrat/Green?    13255 non-null  int32         \n",
      " 5   Black              13255 non-null  int32         \n",
      " 6   Hispanic           13255 non-null  int32         \n",
      " 7   Asian              13255 non-null  int32         \n",
      " 8   White              13255 non-null  int32         \n",
      " 9   General-1          13255 non-null  float64       \n",
      " 10  Midterm-1          13255 non-null  float64       \n",
      " 11  General-2          13255 non-null  float64       \n",
      " 12  MuniRace           13255 non-null  float64       \n",
      " 13  MuniRace-1         13255 non-null  float64       \n",
      " 14  MuniRace-2         13255 non-null  float64       \n",
      " 15  MuniRace-3         13255 non-null  float64       \n",
      " 16  Year               13255 non-null  object        \n",
      " 17  AgeInt             13255 non-null  int64         \n",
      " 18  20s                13255 non-null  int32         \n",
      " 19  30s                13255 non-null  int32         \n",
      " 20  40s                13255 non-null  int32         \n",
      " 21  50s                13255 non-null  int32         \n",
      " 22  60s                13255 non-null  int32         \n",
      " 23  70s                13255 non-null  int32         \n",
      " 24  80s                13255 non-null  int32         \n",
      " 25  Gen Record         13255 non-null  float64       \n",
      " 26  Super Gen Voter    13255 non-null  int32         \n",
      " 27  Likely Gen Voter   13255 non-null  int32         \n",
      " 28  Muni Record        13255 non-null  float64       \n",
      " 29  Super Muni Voter   13255 non-null  int32         \n",
      " 30  Likely Muni Voter  13255 non-null  int32         \n",
      "dtypes: datetime64[ns](1), float64(9), int32(17), int64(3), object(1)\n",
      "memory usage: 2.3+ MB\n"
     ]
    }
   ],
   "source": [
    "# create dataframe of just the relevant voters in 2017 muni election (registered for 6 years prior to election) and rename columns\n",
    "# that way we can create the same dataframe for 2013 and 2009 and merge them to go off of more datapoints\n",
    "\n",
    "df_reg_2017 = df_reg[['Voter File VANID',\n",
    "                      'Woman?',\n",
    "                      'AgeMuni17',\n",
    "                      'DateReg',\n",
    "                      'Democrat/Green?',\n",
    "                      'Black',\n",
    "                      'Hispanic',\n",
    "                      'Asian',\n",
    "                      'White',\n",
    "                      'General16',\n",
    "                      'General14',\n",
    "                      'General12',\n",
    "                      'Municipal17',\n",
    "                      'Municipal15',\n",
    "                      'Municipal13',\n",
    "                      'Municipal11'\n",
    "                     ]].copy()\n",
    "\n",
    "df_reg_2017 = df_reg_2017[df_reg_2017['DateReg']<='2011/11/08']\n",
    "df_reg_2017.reset_index(inplace=True,drop=True)\n",
    "df_reg_2017['Year'] = '2017'\n",
    "\n",
    "df_reg_2017.rename(columns={'AgeMuni17':'AgeMuni',\n",
    "                            'General16':'General-1',\n",
    "                            'General14':'Midterm-1',\n",
    "                            'General12':'General-2',\n",
    "                            'Municipal17':'MuniRace',\n",
    "                            'Municipal15':'MuniRace-1',\n",
    "                            'Municipal13':'MuniRace-2',\n",
    "                            'Municipal11':'MuniRace-3'},inplace=True)\n",
    "\n",
    "df_reg_2017['AgeInt'] = df_reg_2017['AgeMuni'] // 10\n",
    "\n",
    "df_reg_2017['20s'] = np.where(df_reg_2017['AgeInt']==2,1,0)\n",
    "df_reg_2017['30s'] = np.where(df_reg_2017['AgeInt']==3,1,0)\n",
    "df_reg_2017['40s'] = np.where(df_reg_2017['AgeInt']==4,1,0)\n",
    "df_reg_2017['50s'] = np.where(df_reg_2017['AgeInt']==5,1,0)\n",
    "df_reg_2017['60s'] = np.where(df_reg_2017['AgeInt']==6,1,0)\n",
    "df_reg_2017['70s'] = np.where(df_reg_2017['AgeInt']==7,1,0)\n",
    "df_reg_2017['80s'] = np.where(df_reg_2017['AgeInt']==8,1,0)\n",
    "\n",
    "df_reg_2017['Gen Record'] = df_reg_2017['General-1'] + df_reg_2017['Midterm-1'] + df_reg_2017['General-2']\n",
    "df_reg_2017['Super Gen Voter'] = np.where(df_reg_2017['Gen Record']==3,1,0)\n",
    "df_reg_2017['Likely Gen Voter'] = np.where(df_reg_2017['Gen Record']==2,1,0)\n",
    "\n",
    "df_reg_2017['Muni Record'] = df_reg_2017['MuniRace-1'] + df_reg_2017['MuniRace-2'] + df_reg_2017['MuniRace-3']\n",
    "df_reg_2017['Super Muni Voter'] = np.where(df_reg_2017['Muni Record']==3,1,0)\n",
    "df_reg_2017['Likely Muni Voter'] = np.where(df_reg_2017['Muni Record']==0,0,\n",
    "                                           np.where(df_reg_2017['Muni Record']<3,1,0))\n",
    "\n",
    "df_reg_2017.info()"
   ]
  },
  {
   "cell_type": "code",
   "execution_count": 6,
   "id": "c60c1a87",
   "metadata": {},
   "outputs": [
    {
     "name": "stdout",
     "output_type": "stream",
     "text": [
      "<class 'pandas.core.frame.DataFrame'>\n",
      "RangeIndex: 10099 entries, 0 to 10098\n",
      "Data columns (total 31 columns):\n",
      " #   Column             Non-Null Count  Dtype         \n",
      "---  ------             --------------  -----         \n",
      " 0   Voter File VANID   10099 non-null  int64         \n",
      " 1   Woman?             10099 non-null  int32         \n",
      " 2   AgeMuni            10099 non-null  int64         \n",
      " 3   DateReg            10099 non-null  datetime64[ns]\n",
      " 4   Democrat/Green?    10099 non-null  int32         \n",
      " 5   Black              10099 non-null  int32         \n",
      " 6   Hispanic           10099 non-null  int32         \n",
      " 7   Asian              10099 non-null  int32         \n",
      " 8   White              10099 non-null  int32         \n",
      " 9   General-1          10099 non-null  float64       \n",
      " 10  Midterm-1          10099 non-null  float64       \n",
      " 11  General-2          10099 non-null  float64       \n",
      " 12  MuniRace           10099 non-null  float64       \n",
      " 13  MuniRace-1         10099 non-null  float64       \n",
      " 14  MuniRace-2         10099 non-null  float64       \n",
      " 15  MuniRace-3         10099 non-null  float64       \n",
      " 16  Year               10099 non-null  object        \n",
      " 17  AgeInt             10099 non-null  int64         \n",
      " 18  20s                10099 non-null  int32         \n",
      " 19  30s                10099 non-null  int32         \n",
      " 20  40s                10099 non-null  int32         \n",
      " 21  50s                10099 non-null  int32         \n",
      " 22  60s                10099 non-null  int32         \n",
      " 23  70s                10099 non-null  int32         \n",
      " 24  80s                10099 non-null  int32         \n",
      " 25  Gen Record         10099 non-null  float64       \n",
      " 26  Super Gen Voter    10099 non-null  int32         \n",
      " 27  Likely Gen Voter   10099 non-null  int32         \n",
      " 28  Muni Record        10099 non-null  float64       \n",
      " 29  Super Muni Voter   10099 non-null  int32         \n",
      " 30  Likely Muni Voter  10099 non-null  int32         \n",
      "dtypes: datetime64[ns](1), float64(9), int32(17), int64(3), object(1)\n",
      "memory usage: 1.7+ MB\n"
     ]
    }
   ],
   "source": [
    "# create dataframe of just the relevant voters in 2013 muni election (registered for 6 years prior to election) and rename columns\n",
    "\n",
    "df_reg_2013 = df_reg[['Voter File VANID',\n",
    "                      'Woman?',\n",
    "                      'AgeMuni13',\n",
    "                      'DateReg',\n",
    "                      'Democrat/Green?',\n",
    "                      'Black',\n",
    "                      'Hispanic',\n",
    "                      'Asian',\n",
    "                      'White',\n",
    "                      'General12',\n",
    "                      'General10',\n",
    "                      'General08',\n",
    "                      'Municipal13',\n",
    "                      'Municipal11',\n",
    "                      'Municipal09',\n",
    "                      'Municipal07'\n",
    "                     ]].copy()\n",
    "\n",
    "df_reg_2013 = df_reg_2013[df_reg_2013['DateReg']<='2007/11/06']\n",
    "df_reg_2013.reset_index(inplace=True,drop=True)\n",
    "df_reg_2013['Year'] = '2013'\n",
    "\n",
    "df_reg_2013.rename(columns={'AgeMuni13':'AgeMuni',\n",
    "                            'General12':'General-1',\n",
    "                            'General10':'Midterm-1',\n",
    "                            'General08':'General-2',\n",
    "                            'Municipal13':'MuniRace',\n",
    "                            'Municipal11':'MuniRace-1',\n",
    "                            'Municipal09':'MuniRace-2',\n",
    "                            'Municipal07':'MuniRace-3'},inplace=True)\n",
    "\n",
    "df_reg_2013['AgeInt'] = df_reg_2013['AgeMuni'] // 10\n",
    "\n",
    "df_reg_2013['20s'] = np.where(df_reg_2013['AgeInt']==2,1,0)\n",
    "df_reg_2013['30s'] = np.where(df_reg_2013['AgeInt']==3,1,0)\n",
    "df_reg_2013['40s'] = np.where(df_reg_2013['AgeInt']==4,1,0)\n",
    "df_reg_2013['50s'] = np.where(df_reg_2013['AgeInt']==5,1,0)\n",
    "df_reg_2013['60s'] = np.where(df_reg_2013['AgeInt']==6,1,0)\n",
    "df_reg_2013['70s'] = np.where(df_reg_2013['AgeInt']==7,1,0)\n",
    "df_reg_2013['80s'] = np.where(df_reg_2013['AgeInt']==8,1,0)\n",
    "\n",
    "df_reg_2013['Gen Record'] = df_reg_2013['General-1'] + df_reg_2013['Midterm-1'] + df_reg_2013['General-2']\n",
    "df_reg_2013['Super Gen Voter'] = np.where(df_reg_2013['Gen Record']==3,1,0)\n",
    "df_reg_2013['Likely Gen Voter'] = np.where(df_reg_2013['Gen Record']==2,1,0)\n",
    "\n",
    "df_reg_2013['Muni Record'] = df_reg_2013['MuniRace-1'] + df_reg_2013['MuniRace-2'] + df_reg_2013['MuniRace-3']\n",
    "df_reg_2013['Super Muni Voter'] = np.where(df_reg_2013['Muni Record']==3,1,0)\n",
    "df_reg_2013['Likely Muni Voter'] = np.where(df_reg_2013['Muni Record']==0,0,\n",
    "                                           np.where(df_reg_2013['Muni Record']<3,1,0))\n",
    "\n",
    "df_reg_2013.info()"
   ]
  },
  {
   "cell_type": "code",
   "execution_count": 7,
   "id": "7f44777d",
   "metadata": {},
   "outputs": [
    {
     "name": "stdout",
     "output_type": "stream",
     "text": [
      "<class 'pandas.core.frame.DataFrame'>\n",
      "RangeIndex: 7260 entries, 0 to 7259\n",
      "Data columns (total 31 columns):\n",
      " #   Column             Non-Null Count  Dtype         \n",
      "---  ------             --------------  -----         \n",
      " 0   Voter File VANID   7260 non-null   int64         \n",
      " 1   Woman?             7260 non-null   int32         \n",
      " 2   AgeMuni            7260 non-null   int64         \n",
      " 3   DateReg            7260 non-null   datetime64[ns]\n",
      " 4   Democrat/Green?    7260 non-null   int32         \n",
      " 5   Black              7260 non-null   int32         \n",
      " 6   Hispanic           7260 non-null   int32         \n",
      " 7   Asian              7260 non-null   int32         \n",
      " 8   White              7260 non-null   int32         \n",
      " 9   General-1          7260 non-null   float64       \n",
      " 10  Midterm-1          7260 non-null   float64       \n",
      " 11  General-2          7260 non-null   float64       \n",
      " 12  MuniRace           7260 non-null   float64       \n",
      " 13  MuniRace-1         7260 non-null   float64       \n",
      " 14  MuniRace-2         7260 non-null   float64       \n",
      " 15  MuniRace-3         7260 non-null   float64       \n",
      " 16  Year               7260 non-null   object        \n",
      " 17  AgeInt             7260 non-null   int64         \n",
      " 18  20s                7260 non-null   int32         \n",
      " 19  30s                7260 non-null   int32         \n",
      " 20  40s                7260 non-null   int32         \n",
      " 21  50s                7260 non-null   int32         \n",
      " 22  60s                7260 non-null   int32         \n",
      " 23  70s                7260 non-null   int32         \n",
      " 24  80s                7260 non-null   int32         \n",
      " 25  Gen Record         7260 non-null   float64       \n",
      " 26  Super Gen Voter    7260 non-null   int32         \n",
      " 27  Likely Gen Voter   7260 non-null   int32         \n",
      " 28  Muni Record        7260 non-null   float64       \n",
      " 29  Super Muni Voter   7260 non-null   int32         \n",
      " 30  Likely Muni Voter  7260 non-null   int32         \n",
      "dtypes: datetime64[ns](1), float64(9), int32(17), int64(3), object(1)\n",
      "memory usage: 1.2+ MB\n"
     ]
    }
   ],
   "source": [
    "# create dataframe of just the relevant voters in 2009 muni election (registered for 6 years prior to election) and rename columns\n",
    "\n",
    "df_reg_2009 = df_reg[['Voter File VANID',\n",
    "                      'Woman?',\n",
    "                      'AgeMuni09',\n",
    "                      'DateReg',\n",
    "                      'Democrat/Green?',\n",
    "                      'Black',\n",
    "                      'Hispanic',\n",
    "                      'Asian',\n",
    "                      'White',\n",
    "                      'General08',\n",
    "                      'General06',\n",
    "                      'General04',\n",
    "                      'Municipal09',\n",
    "                      'Municipal07',\n",
    "                      'Municipal05',\n",
    "                      'Municipal03'\n",
    "                     ]].copy()\n",
    "\n",
    "df_reg_2009 = df_reg_2009[df_reg_2009['DateReg']<='2003/11/04']\n",
    "df_reg_2009.reset_index(inplace=True,drop=True)\n",
    "df_reg_2009['Year'] = '2009'\n",
    "\n",
    "df_reg_2009.rename(columns={'AgeMuni09':'AgeMuni',\n",
    "                            'General08':'General-1',\n",
    "                            'General06':'Midterm-1',\n",
    "                            'General04':'General-2',\n",
    "                            'Municipal09':'MuniRace',\n",
    "                            'Municipal07':'MuniRace-1',\n",
    "                            'Municipal05':'MuniRace-2',\n",
    "                            'Municipal03':'MuniRace-3'},inplace=True)\n",
    "\n",
    "df_reg_2009['AgeInt'] = df_reg_2009['AgeMuni'] // 10\n",
    "\n",
    "df_reg_2009['20s'] = np.where(df_reg_2009['AgeInt']==2,1,0)\n",
    "df_reg_2009['30s'] = np.where(df_reg_2009['AgeInt']==3,1,0)\n",
    "df_reg_2009['40s'] = np.where(df_reg_2009['AgeInt']==4,1,0)\n",
    "df_reg_2009['50s'] = np.where(df_reg_2009['AgeInt']==5,1,0)\n",
    "df_reg_2009['60s'] = np.where(df_reg_2009['AgeInt']==6,1,0)\n",
    "df_reg_2009['70s'] = np.where(df_reg_2009['AgeInt']==7,1,0)\n",
    "df_reg_2009['80s'] = np.where(df_reg_2009['AgeInt']==8,1,0)\n",
    "\n",
    "df_reg_2009['Gen Record'] = df_reg_2009['General-1'] + df_reg_2009['Midterm-1'] + df_reg_2009['General-2']\n",
    "df_reg_2009['Super Gen Voter'] = np.where(df_reg_2009['Gen Record']==3,1,0)\n",
    "df_reg_2009['Likely Gen Voter'] = np.where(df_reg_2009['Gen Record']==2,1,0)\n",
    "\n",
    "df_reg_2009['Muni Record'] = df_reg_2009['MuniRace-1'] + df_reg_2009['MuniRace-2'] + df_reg_2009['MuniRace-3']\n",
    "df_reg_2009['Super Muni Voter'] = np.where(df_reg_2009['Muni Record']==3,1,0)\n",
    "df_reg_2009['Likely Muni Voter'] = np.where(df_reg_2009['Muni Record']==0,0,\n",
    "                                           np.where(df_reg_2009['Muni Record']<3,1,0))\n",
    "\n",
    "df_reg_2009.info()"
   ]
  },
  {
   "cell_type": "code",
   "execution_count": 8,
   "id": "c9a9a28f",
   "metadata": {},
   "outputs": [
    {
     "name": "stdout",
     "output_type": "stream",
     "text": [
      "<class 'pandas.core.frame.DataFrame'>\n",
      "RangeIndex: 30614 entries, 0 to 30613\n",
      "Data columns (total 31 columns):\n",
      " #   Column             Non-Null Count  Dtype         \n",
      "---  ------             --------------  -----         \n",
      " 0   Voter File VANID   30614 non-null  int64         \n",
      " 1   Woman?             30614 non-null  int32         \n",
      " 2   AgeMuni            30614 non-null  int64         \n",
      " 3   DateReg            30614 non-null  datetime64[ns]\n",
      " 4   Democrat/Green?    30614 non-null  int32         \n",
      " 5   Black              30614 non-null  int32         \n",
      " 6   Hispanic           30614 non-null  int32         \n",
      " 7   Asian              30614 non-null  int32         \n",
      " 8   White              30614 non-null  int32         \n",
      " 9   General-1          30614 non-null  float64       \n",
      " 10  Midterm-1          30614 non-null  float64       \n",
      " 11  General-2          30614 non-null  float64       \n",
      " 12  MuniRace           30614 non-null  float64       \n",
      " 13  MuniRace-1         30614 non-null  float64       \n",
      " 14  MuniRace-2         30614 non-null  float64       \n",
      " 15  MuniRace-3         30614 non-null  float64       \n",
      " 16  Year               30614 non-null  object        \n",
      " 17  AgeInt             30614 non-null  int64         \n",
      " 18  20s                30614 non-null  int32         \n",
      " 19  30s                30614 non-null  int32         \n",
      " 20  40s                30614 non-null  int32         \n",
      " 21  50s                30614 non-null  int32         \n",
      " 22  60s                30614 non-null  int32         \n",
      " 23  70s                30614 non-null  int32         \n",
      " 24  80s                30614 non-null  int32         \n",
      " 25  Gen Record         30614 non-null  float64       \n",
      " 26  Super Gen Voter    30614 non-null  int32         \n",
      " 27  Likely Gen Voter   30614 non-null  int32         \n",
      " 28  Muni Record        30614 non-null  float64       \n",
      " 29  Super Muni Voter   30614 non-null  int32         \n",
      " 30  Likely Muni Voter  30614 non-null  int32         \n",
      "dtypes: datetime64[ns](1), float64(9), int32(17), int64(3), object(1)\n",
      "memory usage: 5.3+ MB\n"
     ]
    },
    {
     "name": "stderr",
     "output_type": "stream",
     "text": [
      "<ipython-input-8-d9d9abbbe890>:3: FutureWarning: The frame.append method is deprecated and will be removed from pandas in a future version. Use pandas.concat instead.\n",
      "  df_reg_final = df_reg_2017.append(df_reg_2013, ignore_index=True)\n",
      "<ipython-input-8-d9d9abbbe890>:4: FutureWarning: The frame.append method is deprecated and will be removed from pandas in a future version. Use pandas.concat instead.\n",
      "  df_reg_final = df_reg_final.append(df_reg_2009, ignore_index=True)\n"
     ]
    }
   ],
   "source": [
    "# merge data frames\n",
    "\n",
    "df_reg_final = df_reg_2017.append(df_reg_2013, ignore_index=True)\n",
    "df_reg_final = df_reg_final.append(df_reg_2009, ignore_index=True)\n",
    "df_reg_final.info()"
   ]
  },
  {
   "cell_type": "code",
   "execution_count": 9,
   "id": "9ee3b59f",
   "metadata": {},
   "outputs": [
    {
     "name": "stdout",
     "output_type": "stream",
     "text": [
      "<class 'pandas.core.frame.DataFrame'>\n",
      "RangeIndex: 17071 entries, 0 to 17070\n",
      "Data columns (total 30 columns):\n",
      " #   Column             Non-Null Count  Dtype         \n",
      "---  ------             --------------  -----         \n",
      " 0   Voter File VANID   17071 non-null  int64         \n",
      " 1   Woman?             17071 non-null  int32         \n",
      " 2   AgeMuni            17071 non-null  int64         \n",
      " 3   DateReg            17071 non-null  datetime64[ns]\n",
      " 4   Democrat/Green?    17071 non-null  int32         \n",
      " 5   Black              17071 non-null  int32         \n",
      " 6   Hispanic           17071 non-null  int32         \n",
      " 7   Asian              17071 non-null  int32         \n",
      " 8   White              17071 non-null  int32         \n",
      " 9   General-1          17071 non-null  float64       \n",
      " 10  Midterm-1          17071 non-null  float64       \n",
      " 11  General-2          17071 non-null  float64       \n",
      " 12  MuniRace-1         17071 non-null  float64       \n",
      " 13  MuniRace-2         17071 non-null  float64       \n",
      " 14  MuniRace-3         17071 non-null  float64       \n",
      " 15  Year               17071 non-null  object        \n",
      " 16  AgeInt             17071 non-null  int64         \n",
      " 17  20s                17071 non-null  int32         \n",
      " 18  30s                17071 non-null  int32         \n",
      " 19  40s                17071 non-null  int32         \n",
      " 20  50s                17071 non-null  int32         \n",
      " 21  60s                17071 non-null  int32         \n",
      " 22  70s                17071 non-null  int32         \n",
      " 23  80s                17071 non-null  int32         \n",
      " 24  Gen Record         17071 non-null  float64       \n",
      " 25  Super Gen Voter    17071 non-null  int32         \n",
      " 26  Likely Gen Voter   17071 non-null  int32         \n",
      " 27  Muni Record        17071 non-null  float64       \n",
      " 28  Super Muni Voter   17071 non-null  int32         \n",
      " 29  Likely Muni Voter  17071 non-null  int32         \n",
      "dtypes: datetime64[ns](1), float64(8), int32(17), int64(3), object(1)\n",
      "memory usage: 2.8+ MB\n"
     ]
    }
   ],
   "source": [
    "# create dataframe of just the relevant voters in 2021 muni election (registered for 6 years prior to election) and rename columns\n",
    "\n",
    "df_reg_2021 = df_reg[['Voter File VANID',\n",
    "                      'Woman?',\n",
    "                      'Age',\n",
    "                      'DateReg',\n",
    "                      'Democrat/Green?',\n",
    "                      'Black',\n",
    "                      'Hispanic',\n",
    "                      'Asian',\n",
    "                      'White',\n",
    "                      'General20', #gen-1\n",
    "                      'General18', #mid-1\n",
    "                      'General16', #gen-2\n",
    "                      'Municipal19', #muni-1\n",
    "                      'Municipal17', #muni-2 (MAYORAL)\n",
    "                      'Municipal15' #muni-3\n",
    "                     ]].copy()\n",
    "\n",
    "df_reg_2021 = df_reg_2021[df_reg_2021['DateReg']<='2015/11/03']\n",
    "df_reg_2021.reset_index(inplace=True,drop=True)\n",
    "df_reg_2021['Year'] = '2021'\n",
    "\n",
    "df_reg_2021.rename(columns={'Age':'AgeMuni',\n",
    "                            'General20':'General-1',\n",
    "                            'General18':'Midterm-1',\n",
    "                            'General16':'General-2',\n",
    "                            'Municipal19':'MuniRace-1',\n",
    "                            'Municipal17':'MuniRace-2',\n",
    "                            'Municipal15':'MuniRace-3'},inplace=True)\n",
    "\n",
    "df_reg_2021['AgeInt'] = df_reg_2021['AgeMuni'] // 10\n",
    "\n",
    "df_reg_2021['20s'] = np.where(df_reg_2021['AgeInt']==2,1,0)\n",
    "df_reg_2021['30s'] = np.where(df_reg_2021['AgeInt']==3,1,0)\n",
    "df_reg_2021['40s'] = np.where(df_reg_2021['AgeInt']==4,1,0)\n",
    "df_reg_2021['50s'] = np.where(df_reg_2021['AgeInt']==5,1,0)\n",
    "df_reg_2021['60s'] = np.where(df_reg_2021['AgeInt']==6,1,0)\n",
    "df_reg_2021['70s'] = np.where(df_reg_2021['AgeInt']==7,1,0)\n",
    "df_reg_2021['80s'] = np.where(df_reg_2021['AgeInt']==8,1,0)\n",
    "\n",
    "df_reg_2021['Gen Record'] = df_reg_2021['General-1'] + df_reg_2021['Midterm-1'] + df_reg_2021['General-2']\n",
    "df_reg_2021['Super Gen Voter'] = np.where(df_reg_2021['Gen Record']==3,1,0)\n",
    "df_reg_2021['Likely Gen Voter'] = np.where(df_reg_2021['Gen Record']==2,1,0)\n",
    "\n",
    "df_reg_2021['Muni Record'] = df_reg_2021['MuniRace-1'] + df_reg_2021['MuniRace-2'] + df_reg_2021['MuniRace-3']\n",
    "df_reg_2021['Super Muni Voter'] = np.where(df_reg_2021['Muni Record']==3,1,0)\n",
    "df_reg_2021['Likely Muni Voter'] = np.where(df_reg_2021['Muni Record']==0,0,np.where(df_reg_2021['Muni Record']<3,1,0))\n",
    "    \n",
    "df_reg_2021.info()"
   ]
  },
  {
   "cell_type": "markdown",
   "id": "6edb06bf",
   "metadata": {},
   "source": [
    "## 3. Create Logistic Regression Model"
   ]
  },
  {
   "cell_type": "code",
   "execution_count": 10,
   "id": "f2798ce9",
   "metadata": {},
   "outputs": [
    {
     "name": "stderr",
     "output_type": "stream",
     "text": [
      "C:\\Users\\abode\\anaconda3\\envs\\python38\\lib\\site-packages\\statsmodels\\tsa\\base\\tsa_model.py:7: FutureWarning: pandas.Int64Index is deprecated and will be removed from pandas in a future version. Use pandas.Index with the appropriate dtype instead.\n",
      "  from pandas import (to_datetime, Int64Index, DatetimeIndex, Period,\n",
      "C:\\Users\\abode\\anaconda3\\envs\\python38\\lib\\site-packages\\statsmodels\\tsa\\base\\tsa_model.py:7: FutureWarning: pandas.Float64Index is deprecated and will be removed from pandas in a future version. Use pandas.Index with the appropriate dtype instead.\n",
      "  from pandas import (to_datetime, Int64Index, DatetimeIndex, Period,\n"
     ]
    }
   ],
   "source": [
    "import statsmodels.api as sm\n",
    "from sklearn.model_selection import train_test_split"
   ]
  },
  {
   "cell_type": "code",
   "execution_count": 11,
   "id": "dc9a76cf",
   "metadata": {},
   "outputs": [],
   "source": [
    "y = df_reg_final['MuniRace']\n",
    "x = df_reg_final[['Voter File VANID',\n",
    "                  #'Woman?',\n",
    "                  #'Democrat/Green?',\n",
    "                  #'Black',\n",
    "                  #'Hispanic',\n",
    "                  #'Asian',\n",
    "                  #'White',\n",
    "                  '20s',\n",
    "                  '30s',\n",
    "                  '40s',\n",
    "                  '50s',\n",
    "                  '60s',\n",
    "                  '70s',\n",
    "                  '80s',\n",
    "                  'Super Gen Voter',\n",
    "                  'Likely Gen Voter',\n",
    "                  'Super Muni Voter',\n",
    "                  'Likely Muni Voter'\n",
    "                 ]]\n",
    "\n",
    "x_train, x_test, y_train, y_test = train_test_split(x, y, test_size=0.25, random_state=1)"
   ]
  },
  {
   "cell_type": "code",
   "execution_count": 12,
   "id": "cdcfd123",
   "metadata": {},
   "outputs": [
    {
     "name": "stdout",
     "output_type": "stream",
     "text": [
      "Optimization terminated successfully.\n",
      "         Current function value: 0.494263\n",
      "         Iterations 6\n",
      "                           Logit Regression Results                           \n",
      "==============================================================================\n",
      "Dep. Variable:               MuniRace   No. Observations:                22960\n",
      "Model:                          Logit   Df Residuals:                    22949\n",
      "Method:                           MLE   Df Model:                           10\n",
      "Date:                Tue, 08 Nov 2022   Pseudo R-squ.:                  0.2824\n",
      "Time:                        08:49:20   Log-Likelihood:                -11348.\n",
      "converged:                       True   LL-Null:                       -15814.\n",
      "Covariance Type:            nonrobust   LLR p-value:                     0.000\n",
      "=====================================================================================\n",
      "                        coef    std err          z      P>|z|      [0.025      0.975]\n",
      "-------------------------------------------------------------------------------------\n",
      "20s                  -2.7156      0.068    -40.136      0.000      -2.848      -2.583\n",
      "30s                  -2.3521      0.054    -43.183      0.000      -2.459      -2.245\n",
      "40s                  -2.1971      0.053    -41.217      0.000      -2.302      -2.093\n",
      "50s                  -2.0871      0.053    -39.231      0.000      -2.191      -1.983\n",
      "60s                  -1.9553      0.058    -33.815      0.000      -2.069      -1.842\n",
      "70s                  -2.0220      0.071    -28.541      0.000      -2.161      -1.883\n",
      "80s                  -2.2596      0.105    -21.493      0.000      -2.466      -2.054\n",
      "Super Gen Voter       1.8314      0.051     36.003      0.000       1.732       1.931\n",
      "Likely Gen Voter      0.8910      0.053     16.682      0.000       0.786       0.996\n",
      "Super Muni Voter      2.6262      0.070     37.267      0.000       2.488       2.764\n",
      "Likely Muni Voter     1.1997      0.037     32.805      0.000       1.128       1.271\n",
      "=====================================================================================\n"
     ]
    }
   ],
   "source": [
    "logit_model = sm.Logit(y_train,x_train.drop(columns=['Voter File VANID'])).fit()\n",
    "print(logit_model.summary())"
   ]
  },
  {
   "cell_type": "code",
   "execution_count": 13,
   "id": "36179af8",
   "metadata": {},
   "outputs": [],
   "source": [
    "yhat = logit_model.predict(x_test.drop(columns=['Voter File VANID']))\n",
    "prediction = list(map(round, yhat))"
   ]
  },
  {
   "cell_type": "code",
   "execution_count": 14,
   "id": "c111643f",
   "metadata": {},
   "outputs": [
    {
     "name": "stdout",
     "output_type": "stream",
     "text": [
      "Confusion Matrix : \n",
      " [[3421  771]\n",
      " [ 892 2570]]\n",
      "\n",
      " Score: 78.27%\n"
     ]
    }
   ],
   "source": [
    "import matplotlib.pyplot as plt\n",
    "import seaborn as sns\n",
    "from sklearn.metrics import confusion_matrix, accuracy_score\n",
    "  \n",
    "# confusion matrix\n",
    "cm = confusion_matrix(y_test, prediction) \n",
    "print (\"Confusion Matrix : \\n\", cm) \n",
    "  \n",
    "# accuracy score of the model\n",
    "score = accuracy_score(y_test, prediction)\n",
    "print(f'\\n Score: {score*100:.2f}%')"
   ]
  },
  {
   "cell_type": "code",
   "execution_count": 15,
   "id": "2d1418ef",
   "metadata": {},
   "outputs": [],
   "source": [
    "plt.figure(figsize=(9,9))\n",
    "sns.heatmap(cm, annot=True, fmt=\".0f\", linewidths=.5, square = True, cmap = 'Blues_r');\n",
    "plt.ylabel('Actual label');\n",
    "plt.xlabel('Predicted label');\n",
    "all_sample_title = f'Overall Accuracy with 50% Threshold: {score*100:.2f}%'\n",
    "plt.title(all_sample_title, size = 15);"
   ]
  },
  {
   "cell_type": "code",
   "execution_count": 16,
   "id": "e1180526",
   "metadata": {},
   "outputs": [
    {
     "name": "stdout",
     "output_type": "stream",
     "text": [
      "True Positive Rate (Sensitivity): 74.23%\n",
      "False Positive Rate: 18.39%\n",
      "Accuracy Within Target Group: 76.92%\n",
      "Voters Targeted: 3,341\n"
     ]
    }
   ],
   "source": [
    "print(f'True Positive Rate (Sensitivity): {cm[1,1]/cm[1].sum()*100:.2f}%')\n",
    "print(f'False Positive Rate: {cm[0,1]/cm[0].sum()*100:.2f}%')\n",
    "print(f'Accuracy Within Target Group: {cm[1,1]/cm[:,1].sum()*100:.2f}%')\n",
    "print(f'Voters Targeted: {sum(prediction):,.0f}')"
   ]
  },
  {
   "cell_type": "code",
   "execution_count": 17,
   "id": "41e4f9e1",
   "metadata": {},
   "outputs": [
    {
     "name": "stdout",
     "output_type": "stream",
     "text": [
      "Confusion Matrix : \n",
      " [[4099   93]\n",
      " [2535  927]]\n",
      "\n",
      " Score: 65.67%\n"
     ]
    }
   ],
   "source": [
    "prediction_2 = list(yhat)\n",
    "\n",
    "for i in range(len(prediction_2)):\n",
    "    if prediction_2[i] >= 0.75:\n",
    "        prediction_2[i] = 1\n",
    "    else:\n",
    "        prediction_2[i] = 0\n",
    "\n",
    "# confusion matrix\n",
    "cm = confusion_matrix(y_test, prediction_2) \n",
    "print (\"Confusion Matrix : \\n\", cm) \n",
    "  \n",
    "# accuracy score of the model\n",
    "score = accuracy_score(y_test, prediction_2)\n",
    "print(f'\\n Score: {score*100:.2f}%')"
   ]
  },
  {
   "cell_type": "code",
   "execution_count": 18,
   "id": "b31fbef7",
   "metadata": {},
   "outputs": [],
   "source": [
    "plt.figure(figsize=(9,9))\n",
    "sns.heatmap(cm, annot=True, fmt=\".0f\", linewidths=.5, square = True, cmap = 'Blues_r');\n",
    "plt.ylabel('Actual label');\n",
    "plt.xlabel('Predicted label');\n",
    "all_sample_title = f'Overall Accuracy with 75% Threshold: {score*100:.2f}%'\n",
    "plt.title(all_sample_title, size = 15);"
   ]
  },
  {
   "cell_type": "code",
   "execution_count": 19,
   "id": "c007cfac",
   "metadata": {},
   "outputs": [
    {
     "name": "stdout",
     "output_type": "stream",
     "text": [
      "Sensitivity (True Positive Rate): 26.78%\n",
      "False Positive Rate: 2.22%\n",
      "Accuracy Within Target Group: 90.88%\n",
      "Voters Targeted: 1,020\n"
     ]
    }
   ],
   "source": [
    "print(f'Sensitivity (True Positive Rate): {cm[1,1]/cm[1].sum()*100:.2f}%')\n",
    "print(f'False Positive Rate: {cm[0,1]/cm[0].sum()*100:.2f}%')\n",
    "print(f'Accuracy Within Target Group: {cm[1,1]/cm[:,1].sum()*100:.2f}%')\n",
    "print(f'Voters Targeted: {sum(prediction_2):,.0f}')"
   ]
  },
  {
   "cell_type": "markdown",
   "id": "a147d41c",
   "metadata": {},
   "source": [
    "## 4. Use Logistic Regression to Assign Turnout Scores for 2021 Election"
   ]
  },
  {
   "cell_type": "code",
   "execution_count": 20,
   "id": "1d7cf948",
   "metadata": {},
   "outputs": [
    {
     "name": "stdout",
     "output_type": "stream",
     "text": [
      "Optimization terminated successfully.\n",
      "         Current function value: 0.491003\n",
      "         Iterations 6\n"
     ]
    }
   ],
   "source": [
    "# refit model on both train and test set\n",
    "logit_model = sm.Logit(y, x.drop(columns=['Voter File VANID'])).fit()"
   ]
  },
  {
   "cell_type": "code",
   "execution_count": 21,
   "id": "c910ad1c",
   "metadata": {},
   "outputs": [
    {
     "name": "stdout",
     "output_type": "stream",
     "text": [
      "<class 'pandas.core.frame.DataFrame'>\n",
      "RangeIndex: 17071 entries, 0 to 17070\n",
      "Data columns (total 31 columns):\n",
      " #   Column             Non-Null Count  Dtype         \n",
      "---  ------             --------------  -----         \n",
      " 0   Voter File VANID   17071 non-null  int64         \n",
      " 1   Woman?             17071 non-null  int32         \n",
      " 2   AgeMuni            17071 non-null  int64         \n",
      " 3   DateReg            17071 non-null  datetime64[ns]\n",
      " 4   Democrat/Green?    17071 non-null  int32         \n",
      " 5   Black              17071 non-null  int32         \n",
      " 6   Hispanic           17071 non-null  int32         \n",
      " 7   Asian              17071 non-null  int32         \n",
      " 8   White              17071 non-null  int32         \n",
      " 9   General-1          17071 non-null  float64       \n",
      " 10  Midterm-1          17071 non-null  float64       \n",
      " 11  General-2          17071 non-null  float64       \n",
      " 12  MuniRace-1         17071 non-null  float64       \n",
      " 13  MuniRace-2         17071 non-null  float64       \n",
      " 14  MuniRace-3         17071 non-null  float64       \n",
      " 15  Year               17071 non-null  object        \n",
      " 16  AgeInt             17071 non-null  int64         \n",
      " 17  20s                17071 non-null  int32         \n",
      " 18  30s                17071 non-null  int32         \n",
      " 19  40s                17071 non-null  int32         \n",
      " 20  50s                17071 non-null  int32         \n",
      " 21  60s                17071 non-null  int32         \n",
      " 22  70s                17071 non-null  int32         \n",
      " 23  80s                17071 non-null  int32         \n",
      " 24  Gen Record         17071 non-null  float64       \n",
      " 25  Super Gen Voter    17071 non-null  int32         \n",
      " 26  Likely Gen Voter   17071 non-null  int32         \n",
      " 27  Muni Record        17071 non-null  float64       \n",
      " 28  Super Muni Voter   17071 non-null  int32         \n",
      " 29  Likely Muni Voter  17071 non-null  int32         \n",
      " 30  TurnoutScore       17071 non-null  float64       \n",
      "dtypes: datetime64[ns](1), float64(9), int32(17), int64(3), object(1)\n",
      "memory usage: 2.9+ MB\n"
     ]
    }
   ],
   "source": [
    "x_2021 = df_reg_2021[[#'Woman?',\n",
    "                      #'Democrat/Green?',\n",
    "                      #'Black',\n",
    "                      #'Hispanic',\n",
    "                      #'Asian',\n",
    "                      #'White',\n",
    "                      '20s',\n",
    "                      '30s',\n",
    "                      '40s',\n",
    "                      '50s',\n",
    "                      '60s',\n",
    "                      '70s',\n",
    "                      '80s',\n",
    "                      'Super Gen Voter',\n",
    "                      'Likely Gen Voter',\n",
    "                      'Super Muni Voter',\n",
    "                      'Likely Muni Voter'\n",
    "                    ]]\n",
    "\n",
    "yhat_2021 = logit_model.predict(x_2021)\n",
    "df_reg_2021['TurnoutScore'] = yhat_2021\n",
    "df_reg_2021.info()"
   ]
  },
  {
   "cell_type": "code",
   "execution_count": 22,
   "id": "01afc6a9",
   "metadata": {},
   "outputs": [
    {
     "name": "stdout",
     "output_type": "stream",
     "text": [
      "<class 'pandas.core.frame.DataFrame'>\n",
      "Int64Index: 23967 entries, 0 to 23966\n",
      "Columns: 150 entries, Voter File VANID to TurnoutScore\n",
      "dtypes: datetime64[ns](1), float64(10), int64(6), object(133)\n",
      "memory usage: 27.6+ MB\n"
     ]
    }
   ],
   "source": [
    "df_final = pd.merge(df_voters, df_reg_2021[['Voter File VANID','TurnoutScore']],on='Voter File VANID',how='left')\n",
    "df_final.info()"
   ]
  },
  {
   "cell_type": "markdown",
   "id": "84c691b4",
   "metadata": {},
   "source": [
    "## 5. Visualize Likely Voter Stats"
   ]
  },
  {
   "cell_type": "code",
   "execution_count": 23,
   "id": "92ad99eb",
   "metadata": {},
   "outputs": [
    {
     "name": "stdout",
     "output_type": "stream",
     "text": [
      "<class 'pandas.core.frame.DataFrame'>\n",
      "Int64Index: 1758 entries, 5 to 23941\n",
      "Columns: 150 entries, Voter File VANID to TurnoutScore\n",
      "dtypes: datetime64[ns](1), float64(10), int64(6), object(133)\n",
      "memory usage: 2.0+ MB\n"
     ]
    }
   ],
   "source": [
    "turnout_threshold = 0.75\n",
    "df_likely_voters = df_final[df_final['TurnoutScore']>=0.75]\n",
    "df_likely_voters.info()"
   ]
  },
  {
   "cell_type": "code",
   "execution_count": 24,
   "id": "5b2e3348",
   "metadata": {},
   "outputs": [
    {
     "data": {
      "text/plain": [
       "1758"
      ]
     },
     "execution_count": 24,
     "metadata": {},
     "output_type": "execute_result"
    }
   ],
   "source": [
    "len(df_likely_voters)"
   ]
  },
  {
   "cell_type": "code",
   "execution_count": 25,
   "id": "a0998978",
   "metadata": {},
   "outputs": [
    {
     "data": {
      "image/png": "[encoded data removed]",
      "text/plain": [
       "<Figure size 900x900 with 2 Axes>"
      ]
     },
     "metadata": {},
     "output_type": "display_data"
    },
    {
     "data": {
      "image/png": "[encoded data removed]",
      "text/plain": [
       "<Figure size 900x900 with 2 Axes>"
      ]
     },
     "metadata": {},
     "output_type": "display_data"
    },
    {
     "data": {
      "image/png": "[encoded data removed]",
      "text/plain": [
       "<Figure size 2000x1500 with 4 Axes>"
      ]
     },
     "metadata": {},
     "output_type": "display_data"
    }
   ],
   "source": [
    "fig, axs = plt.subplots(nrows=2,ncols=2,figsize=(20,15))\n",
    "fig.suptitle('Likely Voters: Who Are They?',size=24)\n",
    "\n",
    "axs = axs.ravel()\n",
    "\n",
    "axs[0].hist(df_likely_voters['Age'], bins=20, rwidth=0.75, color='limegreen')\n",
    "axs[0].set_title('Age')\n",
    "\n",
    "labels, counts = np.unique(df_likely_voters['Ethnicity (Grouped)'], return_counts=True)\n",
    "axs[1].bar(labels, counts, align='center',color='mediumaquamarine')\n",
    "axs[1].set_title('Ethnicity')\n",
    "\n",
    "labels, counts = np.unique(df_likely_voters['Sex'], return_counts=True)\n",
    "axs[2].bar(labels, counts, align='center',color='lightskyblue')\n",
    "axs[2].set_title('Gender')\n",
    "\n",
    "labels, counts = np.unique(df_likely_voters['Ward'], return_counts=True)\n",
    "axs[3].bar(labels, counts, align='center',color='cornflowerblue')\n",
    "axs[3].set_title('Ward')\n",
    "\n",
    "plt.show()"
   ]
  },
  {
   "cell_type": "code",
   "execution_count": null,
   "id": "8d89e53a",
   "metadata": {},
   "outputs": [],
   "source": []
  }
 ],
 "metadata": {
  "kernelspec": {
   "display_name": "Python [conda env:python38]",
   "language": "python",
   "name": "conda-env-python38-py"
  },
  "language_info": {
   "codemirror_mode": {
    "name": "ipython",
    "version": 3
   },
   "file_extension": ".py",
   "mimetype": "text/x-python",
   "name": "python",
   "nbconvert_exporter": "python",
   "pygments_lexer": "ipython3",
   "version": "3.8.13"
  }
 },
 "nbformat": 4,
 "nbformat_minor": 5
}
